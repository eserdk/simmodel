{
 "cells": [
  {
   "cell_type": "code",
   "execution_count": 1,
   "metadata": {
    "pycharm": {
     "name": "#%%\n",
     "is_executing": false
    }
   },
   "outputs": [],
   "source": [
    "def std(m=2 ** 32, a=1103515245):\n",
    "    std.current = (a * std.current) % m\n",
    "    yield std.current\n",
    "std.current = 1"
   ]
  },
  {
   "cell_type": "code",
   "execution_count": 2,
   "metadata": {
    "pycharm": {
     "is_executing": false
    }
   },
   "outputs": [],
   "source": [
    "import random\n",
    "def generate_species(p):\n",
    "    p_sum = 0\n",
    "    # gen_num = next(std())\n",
    "    gen_num = random.random()\n",
    "    for k, v in p.items():\n",
    "        p_sum += v\n",
    "        if gen_num < p_sum:\n",
    "            yield k\n",
    "            "
   ]
  },
  {
   "cell_type": "code",
   "execution_count": 3,
   "outputs": [],
   "source": [
    "M = 0 # math expectation\n",
    "right = 1\n",
    "left = 0\n",
    "p = [.8, .1, .03, .03, .02, .02]\n",
    "while abs(1 - M) > pow(10, -10):\n",
    "    p[0] = (right + left) / 2\n",
    "    p = [p[i] / sum(p) for i in range(len(p))]\n",
    "    M = p[1] + 2 * p[2] + 3 * p[3] + 4 * p[4] + 5 * p[5]  # p1 + 2p2 + 3p3 + 4p4 + 5p5\n",
    "    if M > 1:\n",
    "        left = p[0]\n",
    "    else:\n",
    "        right = p[0]"
   ],
   "metadata": {
    "collapsed": false,
    "pycharm": {
     "name": "#%%\n",
     "is_executing": false
    }
   }
  },
  {
   "cell_type": "code",
   "execution_count": 4,
   "metadata": {
    "pycharm": {
     "is_executing": false
    }
   },
   "outputs": [],
   "source": [
    "# math expectations\n",
    "p_before_critical = {0: 0.8, 1: 0.1, 2: 0.03, 3: 0.03, 4: 0.02, 5: 0.02}\n",
    "p_critical = {0: 0.5348837209618423, 1: 0.2325581395190789, 2: 0.0697674418557237, 3: 0.0697674418557237, 4: 0.046511627903815786, 5: 0.046511627903815786}\n",
    "p_after_critical = {0: .5, 1: .05, 2: .05, 3: .10, 4: .15, 5: .15}\n",
    "pbc_math = 0.1 + 2 * 0.03 + 3 * 0.03 + 4 * 0.02 + 5 * 0.02\n",
    "pac_math = 0.15 + 2 * 0.05 + 3 * 0.10 + 4 * 0.15 + 5 * 0.15\n",
    "\n",
    "# p1 + 2p2 + 3p3 + 4p4 + 5p5 = 1\n",
    "# p1 + 2p + 3p + 4p + 5p => 0.1 + 2 * 0.03 + 3 * 0.03 + 4 * 0.02 + 5 * 0.02 = \n",
    "# p1 + 2p + 3p + 4p + 5p => 0.05 + 2 * 0.1 + 3 * 0.2 + 4 * 0.3 + 5 * 0.3 = "
   ]
  },
  {
   "cell_type": "code",
   "execution_count": 5,
   "outputs": [],
   "source": [
    "# variation\n",
    "# p1 + 2p2 + 3p3 ^ 2 + 4p4 ^ 3 + 5p5 ^ 4        1st\n",
    "# 2p2 + 6p3 + 12p4 + 20p5        2nd\n",
    "# variation = 2nd_deriative + 1st_deriative - 1st_deriative^2\n",
    "\n",
    "pbc_variation = (2 * p_before_critical[2] + 6 * p_before_critical[3] + 12 * p_before_critical[4] + p_before_critical[5])  + pbc_math - pow(pbc_math, 2)\n",
    "pac_variation = (2 * p_after_critical[2] + 6 * p_after_critical[3] + 12 * p_after_critical[4] + p_after_critical[5])  + pac_math - pow(pac_math, 2)\n",
    "crit_variation = (2 * p_critical[2] + 6 * p_critical[3] + 12 * p_critical[4] + p_critical[5]) + M - pow(M, 2)"
   ],
   "metadata": {
    "collapsed": false,
    "pycharm": {
     "name": "#%%\n",
     "is_executing": false
    }
   }
  },
  {
   "cell_type": "code",
   "execution_count": 6,
   "outputs": [],
   "source": [
    "def death(p):\n",
    "    q_prev = 0\n",
    "    Q = p[0] + q_prev * p[1] + pow(q_prev, 2) * p[2] + pow(q_prev, 3) * p[3] + pow(q_prev, 4) * p[4] + pow(q_prev, 5) * p[5]\n",
    "    while abs(Q - q_prev) > pow(10, -10):\n",
    "        q_prev = Q\n",
    "        Q = p[0] + q_prev * p[1] + pow(q_prev, 2) * p[2] + pow(q_prev, 3) * p[3] + pow(q_prev, 4) * p[4] + pow(q_prev, 5) * p[5]\n",
    "    return Q\n",
    "        \n",
    "pbc_death = death(p_before_critical)\n",
    "pac_death = death(p_after_critical)\n",
    "crit_death = death(p_critical)\n",
    "        "
   ],
   "metadata": {
    "collapsed": false,
    "pycharm": {
     "name": "#%%\n",
     "is_executing": false
    }
   }
  },
  {
   "cell_type": "code",
   "execution_count": 7,
   "outputs": [],
   "source": [
    "def simulation(p_current, p_new, n):\n",
    "    k = 1  # amount of species\n",
    "    for _ in range(n):\n",
    "        sum_k = 0\n",
    "        for _ in range(k):\n",
    "            next_k = next(generate_species(p_current))\n",
    "            sum_k += next_k\n",
    "            p_new[next_k] += 1\n",
    "        if sum_k == 0:\n",
    "            break\n",
    "        k = sum_k\n"
   ],
   "metadata": {
    "collapsed": false,
    "pycharm": {
     "name": "#%%\n",
     "is_executing": false
    }
   }
  },
  {
   "cell_type": "code",
   "execution_count": null,
   "metadata": {
    "pycharm": {
     "name": "#%%\n",
     "is_executing": true
    }
   },
   "outputs": [],
   "source": [
    "n_exp = 1000\n",
    "n_iter = 20\n",
    "p_new_after_crit = [0] * 6\n",
    "p_new_before_crit = [0] * 6\n",
    "p_new_crit = [0] * 6\n",
    "for _ in range(n_exp):\n",
    "    simulation(p_before_critical, p_new_before_crit, n_iter)\n",
    "    simulation(p_after_critical, p_new_after_crit, n_iter)\n",
    "    simulation(p_critical, p_new_crit, n_iter)\n",
    "    \n",
    "\n",
    "p_dev_after_crit = [x / sum(p_new_after_crit) for x in p_new_after_crit]\n",
    "p_dev_before_crit = [x / sum(p_new_before_crit) for x in p_new_before_crit]\n",
    "p_dev_crit = [x / sum(p_new_crit) for x in p_new_crit]\n"
   ]
  },
  {
   "cell_type": "code",
   "execution_count": null,
   "outputs": [],
   "source": [
    "p_dif_after_crit = [p_dev_after_crit[x] / p_after_critical[x] for x in range(len(p_dev_after_crit))]\n",
    "p_dif_before_crit = [p_dev_before_crit[x] / p_before_critical[x] for x in range(len(p_dev_before_crit))]\n",
    "p_dif_crit = [p_dev_crit[x] / p_critical[x] for x in range(len(p_dev_crit))]\n"
   ],
   "metadata": {
    "collapsed": false,
    "pycharm": {
     "name": "#%%\n",
     "is_executing": true
    }
   }
  }
 ],
 "metadata": {
  "kernelspec": {
   "display_name": "Python 3",
   "language": "python",
   "name": "python3"
  },
  "language_info": {
   "codemirror_mode": {
    "name": "ipython",
    "version": 3
   },
   "file_extension": ".py",
   "mimetype": "text/x-python",
   "name": "python",
   "nbconvert_exporter": "python",
   "pygments_lexer": "ipython3",
   "version": "3.6.7"
  },
  "pycharm": {
   "stem_cell": {
    "cell_type": "raw",
    "source": [
     "# TODO"
    ],
    "metadata": {
     "collapsed": false
    }
   }
  }
 },
 "nbformat": 4,
 "nbformat_minor": 2
}