{
 "cells": [
  {
   "cell_type": "code",
   "execution_count": 99,
   "metadata": {
    "pycharm": {
     "is_executing": false
    }
   },
   "outputs": [],
   "source": [
    "def generate_std(m=2**31-1, a=16807):\n",
    "    generate_std.current = (a*generate_std.current)%m  \n",
    "    yield generate_std.current/m\n",
    "generate_std.current = 2e002325471\n",
    "\n",
    "import matplotlib.pyplot as plt\n",
    "import math\n",
    "import random\n",
    "import numpy as np\n",
    "from scipy import stats\n",
    "\n",
    "\n",
    "def generate_weibull():\n",
    "    current = (1/lmbd)*((-math.log(random.random()))**(1/alpha))\n",
    "    yield current\n",
    "    \n",
    "\"\"\"\n",
    "a, l\n",
    "(1, 8)\n",
    "(0.05, 5.7)\n",
    "(3.2, 5.1)\n",
    "\"\"\"\n",
    "lmbd = 8\n",
    "alpha = 1\n",
    "\n",
    "def recovery_process(n):\n",
    "    S = [0]\n",
    "    for i in range(1,n):\n",
    "        S.append(S[i-1] + next(generate_weibull()))\n",
    "    return S\n",
    "\n",
    "def recovery_function(alist):\n",
    "    summ = alist[0]\n",
    "    rf = [summ]\n",
    "    for i in range(1, len(alist)):\n",
    "        summ += alist[i]\n",
    "        rf.append(summ / i + 1)\n",
    "    return rf\n",
    "        \n",
    "\n",
    "st = np.random.RandomState(seed=123)\n",
    "xi = stats.weibull_min.rvs(lmbd, scale=alpha, size=98, random_state=st).tolist()\n",
    "mean, var, skew, kurt = stats.weibull_min.stats(lmbd, scale=alpha, moments='mvsk')\n",
    "rf = recovery_function(xi)"
   ]
  },
  {
   "cell_type": "code",
   "execution_count": 100,
   "outputs": [
    {
     "data": {
      "text/plain": "<Figure size 432x288 with 1 Axes>",
      "image/png": "[encoded data removed]"
     },
     "metadata": {
      "needs_background": "light"
     },
     "output_type": "display_data"
    }
   ],
   "source": [
    "plt.step(range(0, len(rf)), rf)\n",
    "plt.ylabel('H(t) - recovery function')\n",
    "plt.xlabel('Step')\n",
    "plt.show()"
   ],
   "metadata": {
    "collapsed": false,
    "pycharm": {
     "name": "#%%\n",
     "is_executing": false
    }
   }
  },
  {
   "cell_type": "code",
   "execution_count": 101,
   "outputs": [],
   "source": [
    "lmbd_experiment, loc_experimental, alpha_experimental = stats.weibull_min.fit(xi)"
   ],
   "metadata": {
    "collapsed": false,
    "pycharm": {
     "name": "#%%\n",
     "is_executing": false
    }
   }
  },
  {
   "cell_type": "code",
   "execution_count": 102,
   "outputs": [],
   "source": [
    "step = sum(xi) / 98\n",
    "experimental = []\n",
    "theoretic = []\n",
    "for i in np.arange(0, sum(xi)-1, step):\n",
    "    G_exp = math.exp(-math.pow((lmbd_experiment * i), alpha_experimental))\n",
    "    G_theoretic = math.exp(-math.pow((lmbd * i), alpha))\n",
    "    F_exp = 1 - G_exp\n",
    "    F_theoretic = 1 - G_theoretic\n",
    "    f_exp = alpha_experimental * lmbd_experiment * math.pow(alpha_experimental * lmbd_experiment, alpha_experimental - 1) * G_exp\n",
    "    f_theoretic = alpha * lmbd * math.pow(alpha * lmbd, alpha - 1) * G_theoretic\n",
    "    phi_exp = f_exp / G_exp\n",
    "    phi_theoretic = f_theoretic / G_theoretic\n",
    "    experimental.append({'G': G_exp, 'F': F_exp, 'f': f_exp, 'phi': phi_exp})\n",
    "    theoretic.append({'G': G_theoretic, 'F': F_theoretic, 'f': f_theoretic, 'phi': phi_theoretic})"
   ],
   "metadata": {
    "collapsed": false,
    "pycharm": {
     "name": "#%%\n",
     "is_executing": false
    }
   }
  },
  {
   "cell_type": "code",
   "execution_count": 106,
   "outputs": [
    {
     "data": {
      "text/plain": "<Figure size 432x288 with 1 Axes>",
      "image/png": "[encoded data removed]"
     },
     "metadata": {
      "needs_background": "light"
     },
     "output_type": "display_data"
    }
   ],
   "source": [
    "rng = range(0, len(experimental))\n",
    "plt.plot(rng, list(map(lambda x: x['G'], experimental)), 'r-', rng, list(map(lambda x: x['G'], theoretic)), 'b:')\n",
    "plt.show()"
   ],
   "metadata": {
    "collapsed": false,
    "pycharm": {
     "name": "#%%\n",
     "is_executing": false
    }
   }
  }
 ],
 "metadata": {
  "kernelspec": {
   "display_name": "Python 3",
   "language": "python",
   "name": "python3"
  },
  "language_info": {
   "codemirror_mode": {
    "name": "ipython",
    "version": 3
   },
   "file_extension": ".py",
   "mimetype": "text/x-python",
   "name": "python",
   "nbconvert_exporter": "python",
   "pygments_lexer": "ipython3",
   "version": "3.6.7"
  },
  "pycharm": {
   "stem_cell": {
    "cell_type": "raw",
    "source": [],
    "metadata": {
     "collapsed": false
    }
   }
  }
 },
 "nbformat": 4,
 "nbformat_minor": 2
}